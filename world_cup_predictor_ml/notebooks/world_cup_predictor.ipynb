{
  "nbformat": 4,
  "nbformat_minor": 0,
  "metadata": {
    "colab": {
      "provenance": []
    },
    "kernelspec": {
      "name": "python3",
      "display_name": "Python 3"
    },
    "language_info": {
      "name": "python"
    }
  },
  "cells": [
    {
      "cell_type": "code",
      "execution_count": 2,
      "metadata": {
        "id": "I1M2SwoSzX0N"
      },
      "outputs": [],
      "source": [
        "# importar as bibliotecas\n",
        "import pandas as pd\n",
        "import numpy as np\n"
      ]
    },
    {
      "cell_type": "code",
      "source": [
        "# 1. Carregar os datasets\n",
        "try:\n",
        "  # arquivo dos resultados das partidas internacionais\n",
        "  df_partidas = pd.read_csv('results.csv')\n",
        "\n",
        "  # ranking da FIFA\n",
        "  df_ranking = pd.read_csv('fifa_ranking.csv')\n",
        "\n",
        "  print(\"Datasets carregados com sucesso!\")\n",
        "except FileNotFoundError:\n",
        "  print(\"Erro: Arquivo CSV não encontrado.\")\n",
        "  print(\"Por favor, verifique o caminho para os arquivos\")\n",
        "\n",
        "  df_partidas = None\n",
        "  df_ranking = None\n",
        ""
      ],
      "metadata": {
        "colab": {
          "base_uri": "https://localhost:8080/"
        },
        "id": "lC7kM9Bp1bqB",
        "outputId": "f7276636-8373-4173-851b-8d13855d7c0f"
      },
      "execution_count": 3,
      "outputs": [
        {
          "output_type": "stream",
          "name": "stdout",
          "text": [
            "Datasets carregados com sucesso!\n"
          ]
        }
      ]
    },
    {
      "cell_type": "code",
      "source": [
        "# 2. Exploração dos dados\n",
        "if df_partidas is not None and df_ranking is not None:\n",
        "  print(\"\\n--- Amostra do Dataset de partidas (df_partidas.head()) ---\")\n",
        "  print(df_partidas.head())\n",
        "\n",
        "  print(\"\\n--- Amostra do Dataset de ranking (df_ranking.head()) ---\")\n",
        "  print(df_ranking.head())"
      ],
      "metadata": {
        "colab": {
          "base_uri": "https://localhost:8080/"
        },
        "id": "IeCMs7402LSz",
        "outputId": "fa94f3d8-5e37-4378-a5fc-1388b6d7d602"
      },
      "execution_count": 4,
      "outputs": [
        {
          "output_type": "stream",
          "name": "stdout",
          "text": [
            "\n",
            "--- Amostra do Dataset de partidas (df_partidas.head()) ---\n",
            "         date home_team away_team  home_score  away_score tournament     city  \\\n",
            "0  1872-11-30  Scotland   England           0           0   Friendly  Glasgow   \n",
            "1  1873-03-08   England  Scotland           4           2   Friendly   London   \n",
            "2  1874-03-07  Scotland   England           2           1   Friendly  Glasgow   \n",
            "3  1875-03-06   England  Scotland           2           2   Friendly   London   \n",
            "4  1876-03-04  Scotland   England           3           0   Friendly  Glasgow   \n",
            "\n",
            "    country  neutral  \n",
            "0  Scotland    False  \n",
            "1   England    False  \n",
            "2  Scotland    False  \n",
            "3   England    False  \n",
            "4  Scotland    False  \n",
            "\n",
            "--- Amostra do Dataset de ranking (df_ranking.head()) ---\n",
            "    rank       country_full country_abrv  total_points  previous_points  \\\n",
            "0  140.0  Brunei Darussalam          BRU           2.0              0.0   \n",
            "1   33.0           Portugal          POR          38.0              0.0   \n",
            "2   32.0             Zambia          ZAM          38.0              0.0   \n",
            "3   31.0             Greece          GRE          38.0              0.0   \n",
            "4   30.0            Algeria          ALG          39.0              0.0   \n",
            "\n",
            "   rank_change confederation   rank_date  \n",
            "0          140           AFC  1992-12-31  \n",
            "1           33          UEFA  1992-12-31  \n",
            "2           32           CAF  1992-12-31  \n",
            "3           31          UEFA  1992-12-31  \n",
            "4           30           CAF  1992-12-31  \n"
          ]
        }
      ]
    },
    {
      "cell_type": "code",
      "source": [
        "print(\"\\n --- Informações sobre as colunas (df_partidas.info()) ---\")\n",
        "df_partidas.info()\n",
        "\n",
        "print(\"\\n --- Informações sobre as colunas (df_ranking.info()) ---\")\n",
        "df_ranking.info()"
      ],
      "metadata": {
        "colab": {
          "base_uri": "https://localhost:8080/"
        },
        "id": "chaAdieY2kL6",
        "outputId": "110d0784-f017-4453-964e-2e8c56e8264b"
      },
      "execution_count": 5,
      "outputs": [
        {
          "output_type": "stream",
          "name": "stdout",
          "text": [
            "\n",
            " --- Informações sobre as colunas (df_partidas.info()) ---\n",
            "<class 'pandas.core.frame.DataFrame'>\n",
            "RangeIndex: 48673 entries, 0 to 48672\n",
            "Data columns (total 9 columns):\n",
            " #   Column      Non-Null Count  Dtype \n",
            "---  ------      --------------  ----- \n",
            " 0   date        48673 non-null  object\n",
            " 1   home_team   48673 non-null  object\n",
            " 2   away_team   48673 non-null  object\n",
            " 3   home_score  48673 non-null  int64 \n",
            " 4   away_score  48673 non-null  int64 \n",
            " 5   tournament  48673 non-null  object\n",
            " 6   city        48673 non-null  object\n",
            " 7   country     48673 non-null  object\n",
            " 8   neutral     48673 non-null  bool  \n",
            "dtypes: bool(1), int64(2), object(6)\n",
            "memory usage: 3.0+ MB\n",
            "\n",
            " --- Informações sobre as colunas (df_ranking.info()) ---\n",
            "<class 'pandas.core.frame.DataFrame'>\n",
            "RangeIndex: 67472 entries, 0 to 67471\n",
            "Data columns (total 8 columns):\n",
            " #   Column           Non-Null Count  Dtype  \n",
            "---  ------           --------------  -----  \n",
            " 0   rank             67463 non-null  float64\n",
            " 1   country_full     67472 non-null  object \n",
            " 2   country_abrv     67472 non-null  object \n",
            " 3   total_points     67472 non-null  float64\n",
            " 4   previous_points  67472 non-null  float64\n",
            " 5   rank_change      67472 non-null  int64  \n",
            " 6   confederation    67472 non-null  object \n",
            " 7   rank_date        67472 non-null  object \n",
            "dtypes: float64(3), int64(1), object(4)\n",
            "memory usage: 4.1+ MB\n"
          ]
        }
      ]
    },
    {
      "cell_type": "code",
      "source": [
        "import pandas as pd\n"
      ],
      "metadata": {
        "id": "uHpwa8bR22aK"
      },
      "execution_count": 6,
      "outputs": []
    },
    {
      "cell_type": "code",
      "source": [
        "# 1.b Limpeza e preparação dos dados\n",
        "if df_partidas is not None and df_ranking is not None:\n",
        "  print(\"\\n--- Iniciando Limpeza de Dados ---\")\n",
        "\n",
        "  # Conversão de datas\n",
        "  # Converte as colunas de data de 'object' (texto) para 'datetime' (data real)\n",
        "  df_partidas['date'] = pd.to_datetime(df_partidas['date'])\n",
        "  df_ranking['rank_date'] = pd.to_datetime(df_ranking['rank_date'])\n",
        "\n",
        "  print(\"Colunas 'date' e 'rank_date' convertidas com sucesso!\")"
      ],
      "metadata": {
        "colab": {
          "base_uri": "https://localhost:8080/"
        },
        "id": "twFeLY6G3PRp",
        "outputId": "861500ff-a768-47a4-e234-1e77c3ac2d71"
      },
      "execution_count": 7,
      "outputs": [
        {
          "output_type": "stream",
          "name": "stdout",
          "text": [
            "\n",
            "--- Iniciando Limpeza de Dados ---\n",
            "Colunas 'date' e 'rank_date' convertidas com sucesso!\n"
          ]
        }
      ]
    },
    {
      "cell_type": "code",
      "source": [
        "# 2 Verificação inicial dos nomes\n",
        "times_partidas = df_partidas['home_team'].unique()\n",
        "times_ranking = df_ranking['country_full'].unique()\n",
        "\n",
        "print(f\"\\nTimes únidos em 'partidas': {len(times_partidas)}\")\n",
        "print(f\"Times únidos em 'ranking': {len(times_ranking)}\")\n"
      ],
      "metadata": {
        "colab": {
          "base_uri": "https://localhost:8080/"
        },
        "id": "fK6E-zl-3wLs",
        "outputId": "e9df5962-4695-442f-e749-7577a9804c39"
      },
      "execution_count": 8,
      "outputs": [
        {
          "output_type": "stream",
          "name": "stdout",
          "text": [
            "\n",
            "Times únidos em 'partidas': 325\n",
            "Times únidos em 'ranking': 216\n"
          ]
        }
      ]
    },
    {
      "cell_type": "code",
      "source": [
        "print(\"\\n--- Verificação pós limpeza de datas (df_partidas.info()) ---\")\n",
        "df_partidas.info()\n",
        "\n",
        "print(\"\\n--- Verificação pós limpeza de datas (df_ranking.info()) ---\")\n",
        "df_ranking.info()"
      ],
      "metadata": {
        "colab": {
          "base_uri": "https://localhost:8080/"
        },
        "id": "ptL5-7i24FA2",
        "outputId": "a6ea7513-bc3f-414a-b47f-039177dde33f"
      },
      "execution_count": 9,
      "outputs": [
        {
          "output_type": "stream",
          "name": "stdout",
          "text": [
            "\n",
            "--- Verificação pós limpeza de datas (df_partidas.info()) ---\n",
            "<class 'pandas.core.frame.DataFrame'>\n",
            "RangeIndex: 48673 entries, 0 to 48672\n",
            "Data columns (total 9 columns):\n",
            " #   Column      Non-Null Count  Dtype         \n",
            "---  ------      --------------  -----         \n",
            " 0   date        48673 non-null  datetime64[ns]\n",
            " 1   home_team   48673 non-null  object        \n",
            " 2   away_team   48673 non-null  object        \n",
            " 3   home_score  48673 non-null  int64         \n",
            " 4   away_score  48673 non-null  int64         \n",
            " 5   tournament  48673 non-null  object        \n",
            " 6   city        48673 non-null  object        \n",
            " 7   country     48673 non-null  object        \n",
            " 8   neutral     48673 non-null  bool          \n",
            "dtypes: bool(1), datetime64[ns](1), int64(2), object(5)\n",
            "memory usage: 3.0+ MB\n",
            "\n",
            "--- Verificação pós limpeza de datas (df_ranking.info()) ---\n",
            "<class 'pandas.core.frame.DataFrame'>\n",
            "RangeIndex: 67472 entries, 0 to 67471\n",
            "Data columns (total 8 columns):\n",
            " #   Column           Non-Null Count  Dtype         \n",
            "---  ------           --------------  -----         \n",
            " 0   rank             67463 non-null  float64       \n",
            " 1   country_full     67472 non-null  object        \n",
            " 2   country_abrv     67472 non-null  object        \n",
            " 3   total_points     67472 non-null  float64       \n",
            " 4   previous_points  67472 non-null  float64       \n",
            " 5   rank_change      67472 non-null  int64         \n",
            " 6   confederation    67472 non-null  object        \n",
            " 7   rank_date        67472 non-null  datetime64[ns]\n",
            "dtypes: datetime64[ns](1), float64(3), int64(1), object(3)\n",
            "memory usage: 4.1+ MB\n"
          ]
        }
      ]
    },
    {
      "cell_type": "code",
      "source": [
        "import pandas as pd"
      ],
      "metadata": {
        "id": "0TPHpHbO4VcG"
      },
      "execution_count": 10,
      "outputs": []
    },
    {
      "cell_type": "code",
      "source": [
        "if df_partidas is not None and df_ranking is not None:\n",
        "  print(\"\\n--- Iniciando Merge ---\")"
      ],
      "metadata": {
        "colab": {
          "base_uri": "https://localhost:8080/"
        },
        "id": "oF5lbGlM4keC",
        "outputId": "6f3f7ad0-b66b-451e-879e-bbea7bd15ebb"
      },
      "execution_count": 11,
      "outputs": [
        {
          "output_type": "stream",
          "name": "stdout",
          "text": [
            "\n",
            "--- Iniciando Merge ---\n"
          ]
        }
      ]
    },
    {
      "cell_type": "code",
      "source": [
        "df_ranking = df_ranking.rename(columns={\n",
        "        'country_full': 'time',  # Nome genérico que usaremos para juntar\n",
        "        'rank_date': 'data_ranking' # Nome claro da data do ranking\n",
        "    })\n",
        "\n"
      ],
      "metadata": {
        "id": "YaKQeCYO4s1w"
      },
      "execution_count": 14,
      "outputs": []
    },
    {
      "cell_type": "code",
      "source": [
        "# ordenar os dataframes pela data\n",
        "df_partidas = df_partidas.sort_values(by='date')\n",
        "df_ranking = df_ranking.sort_values(by='data_ranking')\n",
        "\n",
        "print(\"Dataframes ordenados por data.\")"
      ],
      "metadata": {
        "colab": {
          "base_uri": "https://localhost:8080/"
        },
        "id": "qlU8uOIT494c",
        "outputId": "ef06618a-eb51-43d3-c1f0-16dc42f80dcc"
      },
      "execution_count": 17,
      "outputs": [
        {
          "output_type": "stream",
          "name": "stdout",
          "text": [
            "Dataframes ordenados por data.\n"
          ]
        }
      ]
    },
    {
      "cell_type": "code",
      "source": [
        "# Merge 1: Pegar o ranking do time da casa\n",
        "df_merged = pd.merge_asof(\n",
        "        df_partidas,\n",
        "        df_ranking,\n",
        "        left_on='date',\n",
        "        right_on='data_ranking',\n",
        "        left_by='home_team',\n",
        "        right_by='time',\n",
        "        direction='backward', # Pega o ranking mais recente antes (ou igual) da data do jogo\n",
        "        suffixes=('_partida', '_home')\n",
        "    )\n",
        "\n",
        "print(\"Merge 1 (Time da Casa) concluída.\")"
      ],
      "metadata": {
        "colab": {
          "base_uri": "https://localhost:8080/"
        },
        "id": "qCJ6HitR5Mgp",
        "outputId": "5fdb622a-46c0-4f7a-fdaf-132f91d45105"
      },
      "execution_count": 21,
      "outputs": [
        {
          "output_type": "stream",
          "name": "stdout",
          "text": [
            "Merge 1 (Time da Casa) concluída.\n"
          ]
        }
      ]
    },
    {
      "cell_type": "code",
      "source": [
        "# Merge 2: Pegar o ranking do time visitante\n",
        "df_final = pd.merge_asof(\n",
        "        df_merged,\n",
        "        df_ranking,\n",
        "        left_on='date',\n",
        "        right_on='data_ranking',\n",
        "        left_by='away_team',\n",
        "        right_by='time',\n",
        "        direction='backward',\n",
        "        suffixes=('_home', '_away') # Agora, 'rank' vira 'rank_away'\n",
        "    )\n",
        "\n",
        "print(\"Merge 2 (Time Visitante) concluída.\")"
      ],
      "metadata": {
        "colab": {
          "base_uri": "https://localhost:8080/"
        },
        "id": "KWQzt9hb5c3S",
        "outputId": "5ed41396-986c-43b1-83eb-110f2e1e1f70"
      },
      "execution_count": 22,
      "outputs": [
        {
          "output_type": "stream",
          "name": "stdout",
          "text": [
            "Merge 2 (Time Visitante) concluída.\n"
          ]
        }
      ]
    },
    {
      "cell_type": "code",
      "source": [
        "# Verificação pós merge\n",
        "print(\"\\n--- Amostra do Dataset Final (df_final.head()) ---\")\n",
        "colunas_interesse = [\n",
        "        'date',\n",
        "        'home_team',\n",
        "        'away_team',\n",
        "        'home_score',\n",
        "        'away_score',\n",
        "        'rank_home', # Criado no Merge 1\n",
        "        'rank_away'  # Criado no Merge 2\n",
        "    ]\n",
        "\n",
        "print(df_final[colunas_interesse].head())"
      ],
      "metadata": {
        "colab": {
          "base_uri": "https://localhost:8080/"
        },
        "id": "YaIUeuQF5mvq",
        "outputId": "9f2ad3a4-fbe7-4efe-a86f-7448bf0e552c"
      },
      "execution_count": 24,
      "outputs": [
        {
          "output_type": "stream",
          "name": "stdout",
          "text": [
            "\n",
            "--- Amostra do Dataset Final (df_final.head()) ---\n",
            "        date home_team away_team  home_score  away_score  rank_home  rank_away\n",
            "0 1872-11-30  Scotland   England           0           0        NaN        NaN\n",
            "1 1873-03-08   England  Scotland           4           2        NaN        NaN\n",
            "2 1874-03-07  Scotland   England           2           1        NaN        NaN\n",
            "3 1875-03-06   England  Scotland           2           2        NaN        NaN\n",
            "4 1876-03-04  Scotland   England           3           0        NaN        NaN\n"
          ]
        }
      ]
    },
    {
      "cell_type": "code",
      "source": [
        "# Verificando dados faltantes\n",
        "print(\"\\n--- Verificação de Dados Faltantes (NaN) ---\")\n",
        "\n",
        "missing_home = df_final['rank_home'].isnull().sum()\n",
        "missing_away = df_final['rank_away'].isnull().sum()\n",
        "total_rows = len(df_final)\n",
        "\n",
        "print(f\"Linhas totais: {total_rows}\")\n",
        "print(f\"Rankings do time da casa faltando (NaN): {missing_home} ({missing_home/total_rows:.1%})\")\n",
        "print(f\"Rankings do time visitante faltando (NaN): {missing_away} ({missing_away/total_rows:.1%})\")"
      ],
      "metadata": {
        "colab": {
          "base_uri": "https://localhost:8080/"
        },
        "id": "tyTNmbU359ft",
        "outputId": "d3f00c4e-bfec-4c12-afd6-46c5fc9a07ab"
      },
      "execution_count": 26,
      "outputs": [
        {
          "output_type": "stream",
          "name": "stdout",
          "text": [
            "\n",
            "--- Verificação de Dados Faltantes (NaN) ---\n",
            "Linhas totais: 48673\n",
            "Rankings do time da casa faltando (NaN): 22368 (46.0%)\n",
            "Rankings do time visitante faltando (NaN): 22410 (46.0%)\n"
          ]
        }
      ]
    },
    {
      "cell_type": "code",
      "source": [
        "import pandas as pd\n",
        "import numpy as np\n"
      ],
      "metadata": {
        "id": "6XbEcjex6JsW"
      },
      "execution_count": 27,
      "outputs": []
    },
    {
      "cell_type": "code",
      "source": [
        "if 'df_final' in locals() and df_final is not None:\n",
        "  print(\"\\n--- Iniciando limpeza final e Engenharia de Features ---\")"
      ],
      "metadata": {
        "colab": {
          "base_uri": "https://localhost:8080/"
        },
        "id": "I-HGlOj16hgC",
        "outputId": "be6276e7-cecf-405b-adba-1e09c57dd695"
      },
      "execution_count": 28,
      "outputs": [
        {
          "output_type": "stream",
          "name": "stdout",
          "text": [
            "\n",
            "--- Iniciando limpeza final e Engenharia de Features ---\n"
          ]
        }
      ]
    },
    {
      "cell_type": "code",
      "source": [
        "# Removendo dados faltantes\n",
        "df_modelo = df_final.dropna(subset=['rank_home', 'rank_away'])\n",
        "\n",
        "print(f\"Linhas antes da limpeza de NaN: {len(df_final)}\")\n",
        "print(f\"Linhas após a limpeza de NaN: {len(df_modelo)}\")\n",
        "print(f\"Jogos removidos (principalmente pré-1992): {len(df_final) - len(df_modelo)}\")"
      ],
      "metadata": {
        "colab": {
          "base_uri": "https://localhost:8080/"
        },
        "id": "TFQt2YPU6w1r",
        "outputId": "502616c9-4792-45ab-a937-e988d8973081"
      },
      "execution_count": 29,
      "outputs": [
        {
          "output_type": "stream",
          "name": "stdout",
          "text": [
            "Linhas antes da limpeza de NaN: 48673\n",
            "Linhas após a limpeza de NaN: 23852\n",
            "Jogos removidos (principalmente pré-1992): 24821\n"
          ]
        }
      ]
    },
    {
      "cell_type": "code",
      "source": [
        "# Criação da variável alvo\n",
        "# O modelo precisa prever uma categoria: 0 (Casa Venceu), 1 (Empate), 2 (Visitante Venceu)\n",
        "\n",
        "conditions = [\n",
        "        (df_modelo['home_score'] > df_modelo['away_score']),  # Vitória Casa\n",
        "        (df_modelo['home_score'] == df_modelo['away_score']), # Empate\n",
        "        (df_modelo['home_score'] < df_modelo['away_score'])   # Vitória Visitante\n",
        "    ]\n",
        "\n",
        "choices = [0, 1, 2] # 0=Casa, 1=Empate, 2=Visitante\n",
        "\n",
        "df_modelo['resultado'] = np.select(conditions, choices)"
      ],
      "metadata": {
        "colab": {
          "base_uri": "https://localhost:8080/"
        },
        "id": "EwRE5PEc63dq",
        "outputId": "840e2600-3a86-4c2f-92a6-7ca6e3c794f5"
      },
      "execution_count": 30,
      "outputs": [
        {
          "output_type": "stream",
          "name": "stderr",
          "text": [
            "/tmp/ipython-input-1699623416.py:12: SettingWithCopyWarning: \n",
            "A value is trying to be set on a copy of a slice from a DataFrame.\n",
            "Try using .loc[row_indexer,col_indexer] = value instead\n",
            "\n",
            "See the caveats in the documentation: https://pandas.pydata.org/pandas-docs/stable/user_guide/indexing.html#returning-a-view-versus-a-copy\n",
            "  df_modelo['resultado'] = np.select(conditions, choices)\n"
          ]
        }
      ]
    },
    {
      "cell_type": "code",
      "source": [
        "# Criação de Features Preditivas\n",
        "# Um ranking menor é melhor (ex: Rank 1 é melhor que Rank 50).\n",
        "\n",
        "# (Rank Visitante - Rank Casa).\n",
        "# Se positivo: Casa é melhor ranqueada.\n",
        "# Se negativo: Visitante é melhor ranqueado.\n",
        "df_modelo['diferenca_ranking'] = df_modelo['rank_away'] - df_modelo['rank_home']\n",
        "\n",
        "# Feature: O jogo é de Copa do Mundo? (Isso pode ter um peso diferente de um amistoso)\n",
        "if 'tournament' in df_modelo.columns:\n",
        "    df_modelo['e_copa_do_mundo'] = df_modelo['tournament'].apply(\n",
        "        lambda x: 1 if 'FIFA World Cup' in x else 0\n",
        "        )\n",
        "else:\n",
        "  df_modelo['e_copa_do_mundo'] = 0"
      ],
      "metadata": {
        "colab": {
          "base_uri": "https://localhost:8080/"
        },
        "id": "LJ9Gw6Jd7EXL",
        "outputId": "70159390-3d71-4ce0-846a-eec6cca1e627"
      },
      "execution_count": 32,
      "outputs": [
        {
          "output_type": "stream",
          "name": "stderr",
          "text": [
            "/tmp/ipython-input-4162086326.py:7: SettingWithCopyWarning: \n",
            "A value is trying to be set on a copy of a slice from a DataFrame.\n",
            "Try using .loc[row_indexer,col_indexer] = value instead\n",
            "\n",
            "See the caveats in the documentation: https://pandas.pydata.org/pandas-docs/stable/user_guide/indexing.html#returning-a-view-versus-a-copy\n",
            "  df_modelo['diferenca_ranking'] = df_modelo['rank_away'] - df_modelo['rank_home']\n",
            "/tmp/ipython-input-4162086326.py:11: SettingWithCopyWarning: \n",
            "A value is trying to be set on a copy of a slice from a DataFrame.\n",
            "Try using .loc[row_indexer,col_indexer] = value instead\n",
            "\n",
            "See the caveats in the documentation: https://pandas.pydata.org/pandas-docs/stable/user_guide/indexing.html#returning-a-view-versus-a-copy\n",
            "  df_modelo['e_copa_do_mundo'] = df_modelo['tournament'].apply(\n"
          ]
        }
      ]
    },
    {
      "cell_type": "code",
      "source": [
        "# Seleção dos dados para o modelo\n",
        "# Estas são as colunas que o modelo usará para aprender (X)\n",
        "features = ['diferenca_ranking', 'e_copa_do_mundo']\n",
        "\n",
        "# Esta é a coluna que o modelo tentará prever (y)\n",
        "target = 'resultado'\n",
        "\n",
        "# Criando os dataframes X (features) e y (target)\n",
        "if 'df_modelo' in locals() and df_modelo is not None:\n",
        "    X = df_modelo[features]\n",
        "    y = df_modelo[target]\n",
        "\n",
        "    print(\"\\n--- Dataset pronto para modelagem! ---\")\n",
        "    print(\"\\nFeatures (X) que o modelo usará (amostra):\")\n",
        "    print(X.head())\n",
        "    print(\"\\nAlvo (y) que o modelo preverá (amostra):\")\n",
        "    print(y.head())\n",
        "\n",
        "    print(f\"\\nTotal de jogos que usaremos para treinar: {len(X)}\")\n",
        "else:\n",
        "    print(\"Erro: O dataframe 'df_modelo' não foi encontrado. Rode o passo anterior.\")"
      ],
      "metadata": {
        "colab": {
          "base_uri": "https://localhost:8080/"
        },
        "id": "NRS1ZoV87cMX",
        "outputId": "3fa20a4d-8ff4-416a-fcc6-fccf8c5acf13"
      },
      "execution_count": 36,
      "outputs": [
        {
          "output_type": "stream",
          "name": "stdout",
          "text": [
            "\n",
            "--- Dataset pronto para modelagem! ---\n",
            "\n",
            "Features (X) que o modelo usará (amostra):\n",
            "       diferenca_ranking  e_copa_do_mundo\n",
            "18703               30.0                0\n",
            "18704               42.0                0\n",
            "18705               90.0                0\n",
            "18706              -28.0                0\n",
            "18707              -16.0                0\n",
            "\n",
            "Alvo (y) que o modelo preverá (amostra):\n",
            "18703    1\n",
            "18704    1\n",
            "18705    0\n",
            "18706    0\n",
            "18707    2\n",
            "Name: resultado, dtype: int64\n",
            "\n",
            "Total de jogos que usaremos para treinar: 23852\n"
          ]
        }
      ]
    },
    {
      "cell_type": "code",
      "source": [
        "# Treinar e avaliar o modelo\n",
        "import pandas as pd\n",
        "from sklearn.model_selection import train_test_split\n",
        "from sklearn.ensemble import RandomForestClassifier\n",
        "from sklearn.metrics import accuracy_score, classification_report"
      ],
      "metadata": {
        "id": "67QWo7jt8Pky"
      },
      "execution_count": 38,
      "outputs": []
    },
    {
      "cell_type": "code",
      "source": [
        "if 'X' in locals() and 'y' in locals():\n",
        "\n",
        "    print(\"\\n--- Iniciando Modelagem de Machine Learning ---\")"
      ],
      "metadata": {
        "colab": {
          "base_uri": "https://localhost:8080/"
        },
        "id": "i5SXrKtA838P",
        "outputId": "8c53f1bf-9780-4ed6-a7bc-8bd564a94d23"
      },
      "execution_count": 39,
      "outputs": [
        {
          "output_type": "stream",
          "name": "stdout",
          "text": [
            "\n",
            "--- Iniciando Modelagem de Machine Learning ---\n"
          ]
        }
      ]
    },
    {
      "cell_type": "code",
      "source": [
        "# Divisão dos dados (treino e teste)\n",
        "# 80% treino, 20% teste\n",
        "\n",
        "X_treino, X_teste, y_treino, y_teste = train_test_split(\n",
        "        X, y,\n",
        "        test_size=0.2, # 20% para teste\n",
        "        random_state=42\n",
        "    )\n",
        "\n",
        "print(f\"Tamanho do conjunto de Treino: {len(X_treino)} jogos\")\n",
        "print(f\"Tamanho do conjunto de Teste: {len(X_teste)} jogos\")"
      ],
      "metadata": {
        "colab": {
          "base_uri": "https://localhost:8080/"
        },
        "id": "0-vfgiBf8-Nc",
        "outputId": "0c92c140-7f3b-41e1-94e2-df2285094a1d"
      },
      "execution_count": 41,
      "outputs": [
        {
          "output_type": "stream",
          "name": "stdout",
          "text": [
            "Tamanho do conjunto de Treino: 19081 jogos\n",
            "Tamanho do conjunto de Teste: 4771 jogos\n"
          ]
        }
      ]
    },
    {
      "cell_type": "code",
      "source": [
        "# Criação e treinamento do modelo\n",
        "print(\"\\nTreinando o modelo RandomForestClassifier...\")\n",
        "\n",
        "modelo = RandomForestClassifier(n_estimators=100, random_state=42, n_jobs=-1)\n",
        "\n",
        "\n",
        "modelo.fit(X_treino, y_treino)\n",
        "\n",
        "print(\"Modelo treinado com sucesso!\")"
      ],
      "metadata": {
        "colab": {
          "base_uri": "https://localhost:8080/"
        },
        "id": "Ly9flnnE9KVG",
        "outputId": "75144d59-110d-4896-964f-50d304c4983c"
      },
      "execution_count": 42,
      "outputs": [
        {
          "output_type": "stream",
          "name": "stdout",
          "text": [
            "\n",
            "Treinando o modelo RandomForestClassifier...\n",
            "Modelo treinado com sucesso!\n"
          ]
        }
      ]
    },
    {
      "cell_type": "code",
      "source": [
        "# Avaliação do modelo\n",
        "print(\"\\nAvaliando o modelo no conjunto de Teste (dados nunca vistos)...\")\n",
        "\n",
        "if 'X_teste' in locals() and 'y_teste' in locals() and 'modelo' in locals():\n",
        "    # Pedimos ao modelo para prever os resultados de X_teste\n",
        "    y_predicoes = modelo.predict(X_teste)\n",
        "\n",
        "    # Comparamos as previsões (y_predicoes) com os resultados reais (y_teste)\n",
        "    acuracia = accuracy_score(y_teste, y_predicoes)\n",
        "\n",
        "    print(\"\\n--- RESULTADOS ---\")\n",
        "    print(f\"Acurácia do Modelo: {acuracia * 100:.2f}%\")\n",
        "\n",
        "    # Vamos ver um relatório mais detalhado\n",
        "    # 0 = Vitória Casa, 1 = Empate, 2 = Vitória Visitante\n",
        "    print(\"\\nRelatório de Classificação Detalhado:\")\n",
        "    print(classification_report(y_teste, y_predicoes, target_names=['Casa Vence', 'Empate', 'Visitante Vence']))\n",
        "\n",
        "else:\n",
        "    print(\"Erro: Variáveis X (features) e y (target) não encontradas. Rode o passo anterior.\")"
      ],
      "metadata": {
        "colab": {
          "base_uri": "https://localhost:8080/"
        },
        "id": "vZ8QKSvr9bXl",
        "outputId": "8a4995fd-b882-4742-e70b-c5128bda4bbf"
      },
      "execution_count": 44,
      "outputs": [
        {
          "output_type": "stream",
          "name": "stdout",
          "text": [
            "\n",
            "Avaliando o modelo no conjunto de Teste (dados nunca vistos)...\n",
            "\n",
            "--- RESULTADOS ---\n",
            "Acurácia do Modelo: 56.11%\n",
            "\n",
            "Relatório de Classificação Detalhado:\n",
            "                 precision    recall  f1-score   support\n",
            "\n",
            "     Casa Vence       0.60      0.84      0.70      2321\n",
            "         Empate       0.27      0.03      0.06      1133\n",
            "Visitante Vence       0.49      0.52      0.51      1317\n",
            "\n",
            "       accuracy                           0.56      4771\n",
            "      macro avg       0.46      0.47      0.42      4771\n",
            "   weighted avg       0.49      0.56      0.50      4771\n",
            "\n"
          ]
        }
      ]
    },
    {
      "cell_type": "code",
      "source": [
        "# re-treinando com class_weight='balanced'\n",
        "import pandas as pd\n",
        "from sklearn.model_selection import train_test_split\n",
        "from sklearn.ensemble import RandomForestClassifier\n",
        "from sklearn.metrics import accuracy_score, classification_report"
      ],
      "metadata": {
        "id": "7rFfowz19lem"
      },
      "execution_count": 45,
      "outputs": []
    },
    {
      "cell_type": "code",
      "source": [
        "if 'X' in locals() and 'y' in locals():\n",
        "\n",
        "    print(\"\\n--- Iniciando Modelagem (Versão 2: Balanceada) ---\")"
      ],
      "metadata": {
        "colab": {
          "base_uri": "https://localhost:8080/"
        },
        "id": "KLxHzFj8-In-",
        "outputId": "b6deff14-11ff-4e29-e36a-b6cdbd3ab444"
      },
      "execution_count": 46,
      "outputs": [
        {
          "output_type": "stream",
          "name": "stdout",
          "text": [
            "\n",
            "--- Iniciando Modelagem (Versão 2: Balanceada) ---\n"
          ]
        }
      ]
    },
    {
      "cell_type": "code",
      "source": [
        "X_treino, X_teste, y_treino, y_teste = train_test_split(\n",
        "        X, y,\n",
        "        test_size=0.2,\n",
        "        random_state=42\n",
        "    )"
      ],
      "metadata": {
        "id": "mzLhbA-k-KgR"
      },
      "execution_count": 47,
      "outputs": []
    },
    {
      "cell_type": "code",
      "source": [
        "print(\"\\nTreinando o modelo RandomForestClassifier com class_weight='balanced'...\")\n",
        "\n",
        "# Criação e treinamento do modelo balanceado\n",
        "modelo_balanceado = RandomForestClassifier(\n",
        "    n_estimators=100,\n",
        "    random_state=42,\n",
        "    n_jobs=-1,\n",
        "    class_weight='balanced' # <-- AQUI ESTÁ A MUDANÇA\n",
        ")\n",
        "\n",
        "# Treinamento do modelo balanceado\n",
        "modelo_balanceado.fit(X_treino, y_treino)\n",
        "\n",
        "print(\"Modelo treinado com sucesso!\")"
      ],
      "metadata": {
        "colab": {
          "base_uri": "https://localhost:8080/"
        },
        "id": "6zi8i_6B-Mn9",
        "outputId": "31fc4fe9-6966-4861-c8b1-9ebf3ce797e5"
      },
      "execution_count": 49,
      "outputs": [
        {
          "output_type": "stream",
          "name": "stdout",
          "text": [
            "\n",
            "Treinando o modelo RandomForestClassifier com class_weight='balanced'...\n",
            "Modelo treinado com sucesso!\n"
          ]
        }
      ]
    },
    {
      "cell_type": "code",
      "source": [
        "modelo_balanceado.fit(X_treino, y_treino)\n",
        "\n",
        "print(\"Modelo balanceado treinado com sucesso!\")"
      ],
      "metadata": {
        "colab": {
          "base_uri": "https://localhost:8080/"
        },
        "id": "OoEMDwG3-R9T",
        "outputId": "46cf4e76-76d1-45bd-86d4-32dd86cac27b"
      },
      "execution_count": 51,
      "outputs": [
        {
          "output_type": "stream",
          "name": "stdout",
          "text": [
            "Modelo balanceado treinado com sucesso!\n"
          ]
        }
      ]
    },
    {
      "cell_type": "code",
      "source": [
        "print(\"\\nAvaliando o modelo BALANCEADO no conjunto de Teste...\")\n",
        "\n",
        "if 'X_teste' in locals() and 'y_teste' in locals() and 'modelo_balanceado' in locals():\n",
        "    y_predicoes_balanceado = modelo_balanceado.predict(X_teste)\n",
        "\n",
        "    acuracia_balanceada = accuracy_score(y_teste, y_predicoes_balanceado)\n",
        "\n",
        "    print(\"\\n--- RESULTADOS (Modelo Balanceado) ---\")\n",
        "    print(f\"Acurácia do Modelo: {acuracia_balanceada * 100:.2f}%\")\n",
        "\n",
        "    print(\"\\nRelatório de Classificação Detalhado (Modelo Balanceado):\")\n",
        "    print(classification_report(y_teste, y_predicoes_balanceado, target_names=['Casa Vence', 'Empate', 'Visitante Vence']))\n",
        "\n",
        "else:\n",
        "    print(\"Erro: Variáveis X (features) e y (target) não encontradas. Rode o passo anterior.\")"
      ],
      "metadata": {
        "colab": {
          "base_uri": "https://localhost:8080/"
        },
        "id": "rNx_8c81-aZT",
        "outputId": "69757053-2534-4438-b725-e79366c48cac"
      },
      "execution_count": 53,
      "outputs": [
        {
          "output_type": "stream",
          "name": "stdout",
          "text": [
            "\n",
            "Avaliando o modelo BALANCEADO no conjunto de Teste...\n",
            "\n",
            "--- RESULTADOS (Modelo Balanceado) ---\n",
            "Acurácia do Modelo: 48.96%\n",
            "\n",
            "Relatório de Classificação Detalhado (Modelo Balanceado):\n",
            "                 precision    recall  f1-score   support\n",
            "\n",
            "     Casa Vence       0.70      0.55      0.61      2321\n",
            "         Empate       0.25      0.34      0.29      1133\n",
            "Visitante Vence       0.47      0.52      0.50      1317\n",
            "\n",
            "       accuracy                           0.49      4771\n",
            "      macro avg       0.48      0.47      0.47      4771\n",
            "   weighted avg       0.53      0.49      0.50      4771\n",
            "\n"
          ]
        }
      ]
    },
    {
      "cell_type": "code",
      "source": [
        "# Engenharia de Features Avançada (Rolling Averages)\n",
        "import pandas as pd\n",
        "import numpy as np\n",
        "from sklearn.model_selection import train_test_split\n",
        "from sklearn.ensemble import RandomForestClassifier\n",
        "from sklearn.metrics import accuracy_score, classification_report"
      ],
      "metadata": {
        "id": "5MUnU4qS-el8"
      },
      "execution_count": 54,
      "outputs": []
    },
    {
      "cell_type": "code",
      "source": [
        "if 'df_final' not in locals() or df_final is None:\n",
        "    print(\"Erro: df_final não encontrado. Por favor, rode os passos anteriores de carga e merge.\")\n",
        "else:\n",
        "    print(\"--- Iniciando Engenharia de Features Avançada ---\")"
      ],
      "metadata": {
        "colab": {
          "base_uri": "https://localhost:8080/"
        },
        "id": "ZMgmBXvW_GDk",
        "outputId": "43e924b9-c9bd-455f-b6f3-e005498a5986"
      },
      "execution_count": 55,
      "outputs": [
        {
          "output_type": "stream",
          "name": "stdout",
          "text": [
            "--- Iniciando Engenharia de Features Avançada ---\n"
          ]
        }
      ]
    },
    {
      "cell_type": "code",
      "source": [
        "# Recriar o Dataframe 'df_full'\n",
        "df_full = df_final.dropna(subset=['rank_home', 'rank_away']).copy()\n",
        "\n",
        "# Adicionar um ID único para cada partida para o merge\n",
        "df_full = df_full.reset_index().rename(columns={'index': 'match_id'})\n",
        "\n",
        "\n",
        "# Criar a variável alvo (resultado)\n",
        "conditions = [\n",
        "        (df_full['home_score'] > df_full['away_score']),\n",
        "        (df_full['home_score'] == df_full['away_score']),\n",
        "        (df_full['home_score'] < df_full['away_score'])\n",
        "    ]\n",
        "choices = [0, 1, 2] # 0=Casa, 1=Empate, 2=Visitante\n",
        "df_full['resultado'] = np.select(conditions, choices)\n",
        "\n",
        "print(\"1. Dataframe 'df_full' recriado com 'match_id' e 'resultado'.\")"
      ],
      "metadata": {
        "colab": {
          "base_uri": "https://localhost:8080/"
        },
        "id": "NJVBH0s-_IhU",
        "outputId": "fbc52e58-cf39-4420-9067-92d8ae711fbb"
      },
      "execution_count": 57,
      "outputs": [
        {
          "output_type": "stream",
          "name": "stdout",
          "text": [
            "1. Dataframe 'df_full' recriado com 'match_id' e 'resultado'.\n"
          ]
        }
      ]
    },
    {
      "cell_type": "code",
      "source": [
        "# criar dataframe por time\n",
        "# Seleciona e renomeia colunas do time da CASA\n",
        "df_home_stats = df_full[['match_id', 'date', 'home_team', 'home_score', 'away_score']].rename(columns={\n",
        "    'home_team': 'team',\n",
        "    'home_score': 'goals_scored',\n",
        "    'away_score': 'goals_conceded'\n",
        "})\n",
        "\n",
        "# Seleciona e renomeia colunas do time VISITANTE\n",
        "df_away_stats = df_full[['match_id', 'date', 'away_team', 'away_score', 'home_score']].rename(columns={\n",
        "    'away_team': 'team',\n",
        "    'away_score': 'goals_scored',\n",
        "    'home_score': 'goals_conceded'\n",
        "})\n",
        "\n",
        "# Concatena os dois dataframes\n",
        "df_long_stats = pd.concat([df_home_stats, df_away_stats])\n",
        "\n",
        "# Ordena por time e data\n",
        "df_long_stats = df_long_stats.sort_values(by=['team', 'date'])\n",
        "\n",
        "print(\"2. Dataframe 'longo' (df_long_stats) criado.\")"
      ],
      "metadata": {
        "colab": {
          "base_uri": "https://localhost:8080/"
        },
        "id": "vIfbRhGE_V_H",
        "outputId": "d2c0ffb0-b3c6-4ed7-a9d8-fcd6dfc08589"
      },
      "execution_count": 59,
      "outputs": [
        {
          "output_type": "stream",
          "name": "stdout",
          "text": [
            "2. Dataframe 'longo' (df_long_stats) criado.\n"
          ]
        }
      ]
    },
    {
      "cell_type": "code",
      "source": [
        "# calcular estatísticas de janela\n",
        "df_long_stats['avg_scored'] = df_long_stats.groupby('team')['goals_scored'].rolling(window=5, min_periods=1).mean().shift(1).reset_index(level=0, drop=True)\n",
        "df_long_stats['avg_conceded'] = df_long_stats.groupby('team')['goals_conceded'].rolling(window=5, min_periods=1).mean().shift(1).reset_index(level=0, drop=True)\n",
        "\n",
        "df_long_stats = df_long_stats.fillna(0)\n",
        "\n",
        "print(\"3. Estatísticas rolling (avg_scored, avg_conceded) calculadas.\")"
      ],
      "metadata": {
        "colab": {
          "base_uri": "https://localhost:8080/"
        },
        "id": "poj3hp3S_ikT",
        "outputId": "0627f57b-29a3-4c80-91d2-3ecc0d329efc"
      },
      "execution_count": 60,
      "outputs": [
        {
          "output_type": "stream",
          "name": "stdout",
          "text": [
            "3. Estatísticas rolling (avg_scored, avg_conceded) calculadas.\n"
          ]
        }
      ]
    },
    {
      "cell_type": "code",
      "source": [
        "# Merge\n",
        "# time da casa\n",
        "df_full = pd.merge(\n",
        "        df_full,\n",
        "        df_long_stats[['match_id', 'team', 'avg_scored', 'avg_conceded']],\n",
        "        left_on=['match_id', 'home_team'],\n",
        "        right_on=['match_id', 'team'],\n",
        "        suffixes=('', '_drop')\n",
        "    ).rename(columns={\n",
        "        'avg_scored': 'avg_scored_home',\n",
        "        'avg_conceded': 'avg_conceded_home'\n",
        "    }).drop(columns=['team', 'team_drop'], errors='ignore')\n",
        "\n",
        "# time visitante\n",
        "df_full = pd.merge(\n",
        "        df_full,\n",
        "        df_long_stats[['match_id', 'team', 'avg_scored', 'avg_conceded']],\n",
        "        left_on=['match_id', 'away_team'],\n",
        "        right_on=['match_id', 'team'],\n",
        "        suffixes=('', '_drop')\n",
        "    ).rename(columns={\n",
        "        'avg_scored': 'avg_scored_away',\n",
        "        'avg_conceded': 'avg_conceded_away'\n",
        "    }).drop(columns=['team', 'team_drop'], errors='ignore')\n",
        "\n",
        "print(\"4. Novas features (média de gols) juntadas ao dataframe 'df_full'.\")"
      ],
      "metadata": {
        "colab": {
          "base_uri": "https://localhost:8080/"
        },
        "id": "g76af-G2_wDM",
        "outputId": "18383707-8161-4752-80ce-ad2cb848aa65"
      },
      "execution_count": 62,
      "outputs": [
        {
          "output_type": "stream",
          "name": "stdout",
          "text": [
            "4. Novas features (média de gols) juntadas ao dataframe 'df_full'.\n"
          ]
        }
      ]
    },
    {
      "cell_type": "code",
      "source": [
        "# treinar novo modelo\n",
        "df_full['diferenca_ranking'] = df_full['rank_away'] - df_full['rank_home']\n",
        "\n",
        "# Feature: Jogo de Copa do Mundo\n",
        "if 'tournament' in df_full.columns:\n",
        "    df_full['e_copa_do_mundo'] = df_full['tournament'].apply(lambda x: 1 if 'FIFA World Cup' in x else 0)\n",
        "else:\n",
        "    df_full['e_copa_do_mundo'] = 0\n",
        "\n",
        "features = [\n",
        "        'diferenca_ranking',\n",
        "        'e_copa_do_mundo',\n",
        "        'avg_scored_home',    # Nova\n",
        "        'avg_conceded_home',  # Nova\n",
        "        'avg_scored_away',    # Nova\n",
        "        'avg_conceded_away'   # Nova\n",
        "    ]\n",
        "\n",
        "target = 'resultado'\n",
        "\n",
        "X_novo = df_full[features]\n",
        "y_novo = df_full[target]\n",
        "\n",
        "# Divisão Treino/Teste\n",
        "X_treino_n, X_teste_n, y_treino_n, y_teste_n = train_test_split(\n",
        "    X_novo, y_novo,\n",
        "    test_size=0.2,\n",
        "    random_state=42\n",
        ")\n",
        "\n",
        "print(\"\\n--- Treinando Modelo (Versão 3: Features Avançadas + Balanceado) ---\")\n",
        "modelo_avancado = RandomForestClassifier(\n",
        "        n_estimators=100,\n",
        "        random_state=42,\n",
        "        n_jobs=-1,\n",
        "        class_weight='balanced'\n",
        ")\n",
        "\n",
        "modelo_avancado.fit(X_treino_n, y_treino_n)\n",
        "\n",
        "print(\"Modelo avançado treinado com sucesso!\")\n",
        "\n",
        "# avaliação\n",
        "y_pred_avancado = modelo_avancado.predict(X_teste_n)\n",
        "acuracia_avancada = accuracy_score(y_teste_n, y_pred_avancado)\n",
        "print(\"\\n--- RESULTADOS (Modelo 3: Features Avançadas) ---\")\n",
        "print(f\"Acurácia do Modelo: {acuracia_avancada * 100:.2f}%\")\n",
        "\n",
        "print(\"\\nRelatório de Classificação Detalhado (Modelo 3):\")\n",
        "print(classification_report(y_teste_n, y_pred_avancado, target_names=['Casa Vence', 'Empate', 'Visitante Vence']))"
      ],
      "metadata": {
        "colab": {
          "base_uri": "https://localhost:8080/"
        },
        "id": "XqnenJ4h_7GV",
        "outputId": "85dfed92-2c78-40c3-d068-f44c094d2964"
      },
      "execution_count": 65,
      "outputs": [
        {
          "output_type": "stream",
          "name": "stdout",
          "text": [
            "\n",
            "--- Treinando Modelo (Versão 3: Features Avançadas + Balanceado) ---\n",
            "Modelo avançado treinado com sucesso!\n",
            "\n",
            "--- RESULTADOS (Modelo 3: Features Avançadas) ---\n",
            "Acurácia do Modelo: 54.29%\n",
            "\n",
            "Relatório de Classificação Detalhado (Modelo 3):\n",
            "                 precision    recall  f1-score   support\n",
            "\n",
            "     Casa Vence       0.61      0.77      0.68      2321\n",
            "         Empate       0.28      0.14      0.19      1133\n",
            "Visitante Vence       0.52      0.49      0.50      1317\n",
            "\n",
            "       accuracy                           0.54      4771\n",
            "      macro avg       0.47      0.47      0.46      4771\n",
            "   weighted avg       0.50      0.54      0.51      4771\n",
            "\n"
          ]
        }
      ]
    },
    {
      "cell_type": "code",
      "source": [
        "# criando modelo 4\n",
        "import pandas as pd\n",
        "from sklearn.model_selection import train_test_split\n",
        "from sklearn.ensemble import RandomForestClassifier\n",
        "from sklearn.metrics import accuracy_score, classification_report"
      ],
      "metadata": {
        "id": "L4HSUsNlAHov"
      },
      "execution_count": 66,
      "outputs": []
    },
    {
      "cell_type": "code",
      "source": [
        "if 'X_novo' in locals() and 'y_novo' in locals():\n",
        "  print(\"\\n--- Treinando Modelo (Versão 4: Features Avançadas, Sem Balanceamento) ---\")"
      ],
      "metadata": {
        "colab": {
          "base_uri": "https://localhost:8080/"
        },
        "id": "zh7TNjzBA0G1",
        "outputId": "97d95f2b-f7bf-4e21-c074-327c87322d91"
      },
      "execution_count": 67,
      "outputs": [
        {
          "output_type": "stream",
          "name": "stdout",
          "text": [
            "\n",
            "--- Treinando Modelo (Versão 4: Features Avançadas, Sem Balanceamento) ---\n"
          ]
        }
      ]
    },
    {
      "cell_type": "code",
      "source": [
        "X_treino_4, X_teste_4, y_treino_4, y_teste_4 = train_test_split(\n",
        "        X_novo, y_novo,\n",
        "        test_size=0.2,\n",
        "        random_state=42\n",
        "    )"
      ],
      "metadata": {
        "id": "TCccE2L5A3vC"
      },
      "execution_count": 68,
      "outputs": []
    },
    {
      "cell_type": "code",
      "source": [
        "print(\"Treinando o modelo RandomForestClassifier (sem balanceamento)...\")\n",
        "\n",
        "# A linha 'class_weight' foi removida\n",
        "modelo_final_acc = RandomForestClassifier(\n",
        "    n_estimators=100,\n",
        "    random_state=42,\n",
        "    n_jobs=-1\n",
        ")\n",
        "\n",
        "# Treinamos o novo modelo\n",
        "modelo_final_acc.fit(X_treino_4, y_treino_4)\n",
        "\n",
        "print(\"Modelo treinado com sucesso!\")"
      ],
      "metadata": {
        "colab": {
          "base_uri": "https://localhost:8080/"
        },
        "id": "sKOd9zGvA6Op",
        "outputId": "53551936-5fa4-4622-ad9d-eebf0b37ff53"
      },
      "execution_count": 70,
      "outputs": [
        {
          "output_type": "stream",
          "name": "stdout",
          "text": [
            "Treinando o modelo RandomForestClassifier (sem balanceamento)...\n",
            "Modelo treinado com sucesso!\n"
          ]
        }
      ]
    },
    {
      "cell_type": "code",
      "source": [
        "print(\"\\nAvaliando o modelo (Foco na Acurácia) no conjunto de Teste...\")\n",
        "\n",
        "if 'X_novo' in locals() and 'y_novo' in locals():\n",
        "    y_pred_4 = modelo_final_acc.predict(X_teste_4)\n",
        "\n",
        "    acuracia_4 = accuracy_score(y_teste_4, y_pred_4)\n",
        "\n",
        "    print(\"\\n--- RESULTADOS (Modelo 4: Foco na Acurácia Máxima) ---\")\n",
        "    print(f\"Acurácia do Modelo: {acuracia_4 * 100:.2f}%\")\n",
        "\n",
        "    print(\"\\nRelatório de Classificação Detalhado (Modelo 4):\")\n",
        "    print(classification_report(y_teste_4, y_pred_4, target_names=['Casa Vence', 'Empate', 'Visitante Vence']))\n",
        "\n",
        "else:\n",
        "    print(\"Erro: Variáveis 'X_novo' e 'y_novo' não encontradas. Rode o passo anterior de engenharia de features.\")"
      ],
      "metadata": {
        "colab": {
          "base_uri": "https://localhost:8080/"
        },
        "id": "eb9SW7DKA-1i",
        "outputId": "06503538-5b30-4f77-f7ea-c890d42ac8aa"
      },
      "execution_count": 72,
      "outputs": [
        {
          "output_type": "stream",
          "name": "stdout",
          "text": [
            "\n",
            "Avaliando o modelo (Foco na Acurácia) no conjunto de Teste...\n",
            "\n",
            "--- RESULTADOS (Modelo 4: Foco na Acurácia Máxima) ---\n",
            "Acurácia do Modelo: 53.70%\n",
            "\n",
            "Relatório de Classificação Detalhado (Modelo 4):\n",
            "                 precision    recall  f1-score   support\n",
            "\n",
            "     Casa Vence       0.61      0.76      0.68      2321\n",
            "         Empate       0.26      0.14      0.18      1133\n",
            "Visitante Vence       0.50      0.49      0.50      1317\n",
            "\n",
            "       accuracy                           0.54      4771\n",
            "      macro avg       0.46      0.46      0.45      4771\n",
            "   weighted avg       0.50      0.54      0.51      4771\n",
            "\n"
          ]
        }
      ]
    },
    {
      "cell_type": "markdown",
      "source": [
        "##### Iniciei com um modelo base (M1) que usava apenas o Ranking da FIFA. Embora tenha atingido 56.1% de acurácia, uma análise mais profunda (Relatório de Classificação) revelou um modelo falho, com viés severo para prever 'Vitória da Casa' e incapaz de prever 'Empates' (apenas 3% de recall).\n",
        "\n",
        "##### Para corrigir isso, criei features de momentum (média de gols marcados/sofridos nos últimos 5 jogos). Essas novas features tornaram o modelo mais robusto, aumentando o recall de 'Empate' de 3% para 14%.\n",
        "\n",
        "##### O modelo final (M3), combinando as features avançadas com a técnica de balanceamento (class_weight='balanced'), provou ser o melhor modelo \"all-around\", atingindo uma acurácia de 54.3% e demonstrando o melhor equilíbrio (trade-off) entre acurácia geral e a capacidade de prever os três resultados."
      ],
      "metadata": {
        "id": "nGWRosB3Bf54"
      }
    },
    {
      "cell_type": "code",
      "source": [
        "# Função de previsão\n",
        "import pandas as pd\n",
        "import warnings"
      ],
      "metadata": {
        "id": "B0TbzXa2BFKU"
      },
      "execution_count": 73,
      "outputs": []
    },
    {
      "cell_type": "code",
      "source": [
        "warnings.filterwarnings('ignore', category=UserWarning, module='pandas')"
      ],
      "metadata": {
        "id": "OAwFlVf9B6J1"
      },
      "execution_count": 74,
      "outputs": []
    },
    {
      "cell_type": "code",
      "source": [
        "# Função auxiliar\n",
        "def get_latest_rank(team_name, ranking_df):\n",
        "    \"\"\"Busca o ranking mais recente de um time.\"\"\"\n",
        "    try:\n",
        "        # Filtra o time e pega o último registro (mais recente)\n",
        "        rank = ranking_df[ranking_df['time'] == team_name].iloc[-1]['rank']\n",
        "        return rank\n",
        "    except IndexError:\n",
        "        # Se o time não for encontrado, retorna um rank \"médio/ruim\" para não quebrar\n",
        "        print(f\"Aviso: Time '{team_name}' não encontrado no ranking. Usando rank 150 (padrão).\")\n",
        "        return 150\n",
        "\n",
        "def get_latest_stats(team_name, stats_df):\n",
        "    \"\"\"Busca as médias de gols mais recentes (últimos 5 jogos) de um time.\"\"\"\n",
        "    try:\n",
        "        # Filtra o time e pega o último registro (último jogo jogado)\n",
        "        stats = stats_df[stats_df['team'] == team_name].iloc[-1]\n",
        "        return stats['avg_scored'], stats['avg_conceded']\n",
        "    except IndexError:\n",
        "        print(f\"Aviso: Time '{team_name}' não encontrado nas estatísticas. Usando média 0.\")\n",
        "        return 0, 0"
      ],
      "metadata": {
        "id": "-5DPmDeuB74f"
      },
      "execution_count": 75,
      "outputs": []
    },
    {
      "cell_type": "code",
      "source": [
        "# Função principal\n",
        "def prever_jogo(time_casa, time_visitante, is_world_cup, modelo, ranking_df, stats_df):\n",
        "    \"\"\"\n",
        "    Prevê o resultado de um jogo usando o modelo treinado.\n",
        "    \"\"\"\n",
        "\n",
        "    # Mapa de resultados\n",
        "    mapa_resultados = {0: 'Vitória da Casa', 1: 'Empate', 2: 'Vitória do Visitante'}\n",
        "# 1. Coletar Dados do Time da Casa\n",
        "    rank_home = get_latest_rank(time_casa, ranking_df)\n",
        "    avg_scored_home, avg_conceded_home = get_latest_stats(time_casa, stats_df)\n",
        "\n",
        "# 2. Coletar Dados do Time Visitante\n",
        "    rank_away = get_latest_rank(time_visitante, ranking_df)\n",
        "    avg_scored_away, avg_conceded_away = get_latest_stats(time_visitante, stats_df)\n",
        "\n",
        "# 3. Montar o Vetor de Features\n",
        "    dados_jogo = {\n",
        "        'diferenca_ranking': rank_away - rank_home,\n",
        "        'e_copa_do_mundo': 1 if is_world_cup else 0,\n",
        "        'avg_scored_home': avg_scored_home,\n",
        "        'avg_conceded_home': avg_conceded_home,\n",
        "        'avg_scored_away': avg_scored_away,\n",
        "        'avg_conceded_away': avg_conceded_away\n",
        "    }\n",
        "    df_predict = pd.DataFrame([dados_jogo])\n",
        "\n",
        "# 4. Fazer a previsão\n",
        "    probabilidades = modelo.predict_proba(df_predict)[0]\n",
        "\n",
        "# 5. Formatar a Saída\n",
        "    print(\"\\n--- ⚽ PREVISÃO DO JOGO ⚽ ---\")\n",
        "    print(f\"Jogo: {time_casa} (Casa) vs. {time_visitante} (Visitante)\")\n",
        "    print(\"-\" * 30)\n",
        "    print(\"Probabilidades:\")\n",
        "    print(f\"   {mapa_resultados[0]} ({time_casa}): {probabilidades[0] * 100:.2f}%\")\n",
        "    print(f\"   {mapa_resultados[1]}: {probabilidades[1] * 100:.2f}%\")\n",
        "    print(f\"   {mapa_resultados[2]} ({time_visitante}): {probabilidades[2] * 100:.2f}%\")\n",
        "    print(\"-\" * 30)\n",
        "\n",
        "# Resultado mais provável\n",
        "    resultado_final = mapa_resultados[probabilidades.argmax()]\n",
        "    print(f\"Resultado Mais Provável: **{resultado_final}**\")\n",
        "\n",
        "    return resultado_final"
      ],
      "metadata": {
        "id": "Jc1hLAJ6CG-u"
      },
      "execution_count": 80,
      "outputs": []
    },
    {
      "cell_type": "code",
      "source": [
        "# Exemplo de uso\n",
        "# Exemplo 1\n",
        "prever_jogo(\n",
        "    time_casa=\"Brazil\",\n",
        "    time_visitante=\"Argentina\",\n",
        "    is_world_cup=True,\n",
        "    modelo=modelo_avancado,\n",
        "    ranking_df=df_ranking,\n",
        "    stats_df=df_long_stats\n",
        ")"
      ],
      "metadata": {
        "colab": {
          "base_uri": "https://localhost:8080/",
          "height": 209
        },
        "id": "1bx8eYO9Cph0",
        "outputId": "65836d06-a09c-4e3d-fdbf-968f77856d9b"
      },
      "execution_count": 81,
      "outputs": [
        {
          "output_type": "stream",
          "name": "stdout",
          "text": [
            "\n",
            "--- ⚽ PREVISÃO DO JOGO ⚽ ---\n",
            "Jogo: Brazil (Casa) vs. Argentina (Visitante)\n",
            "------------------------------\n",
            "Probabilidades:\n",
            "   Vitória da Casa (Brazil): 36.00%\n",
            "   Empate: 35.00%\n",
            "   Vitória do Visitante (Argentina): 29.00%\n",
            "------------------------------\n",
            "Resultado Mais Provável: **Vitória da Casa**\n"
          ]
        },
        {
          "output_type": "execute_result",
          "data": {
            "text/plain": [
              "'Vitória da Casa'"
            ],
            "application/vnd.google.colaboratory.intrinsic+json": {
              "type": "string"
            }
          },
          "metadata": {},
          "execution_count": 81
        }
      ]
    },
    {
      "cell_type": "code",
      "source": [
        "#Exemplo 2\n",
        "prever_jogo(\n",
        "    time_casa=\"England\",\n",
        "    time_visitante=\"Germany\",\n",
        "    is_world_cup=False,\n",
        "    modelo=modelo_avancado,\n",
        "    ranking_df=df_ranking,\n",
        "    stats_df=df_long_stats\n",
        ")"
      ],
      "metadata": {
        "colab": {
          "base_uri": "https://localhost:8080/",
          "height": 209
        },
        "id": "3a_Wj03CDRjJ",
        "outputId": "8886c7c2-bcde-4b6e-c383-c2dccd419d89"
      },
      "execution_count": 82,
      "outputs": [
        {
          "output_type": "stream",
          "name": "stdout",
          "text": [
            "\n",
            "--- ⚽ PREVISÃO DO JOGO ⚽ ---\n",
            "Jogo: England (Casa) vs. Germany (Visitante)\n",
            "------------------------------\n",
            "Probabilidades:\n",
            "   Vitória da Casa (England): 40.00%\n",
            "   Empate: 47.00%\n",
            "   Vitória do Visitante (Germany): 13.00%\n",
            "------------------------------\n",
            "Resultado Mais Provável: **Empate**\n"
          ]
        },
        {
          "output_type": "execute_result",
          "data": {
            "text/plain": [
              "'Empate'"
            ],
            "application/vnd.google.colaboratory.intrinsic+json": {
              "type": "string"
            }
          },
          "metadata": {},
          "execution_count": 82
        }
      ]
    },
    {
      "cell_type": "code",
      "source": [
        "# salvar os artefatos\n",
        "import joblib\n",
        "import pandas as pd\n",
        "\n",
        "print(\"Salvando artefatos...\")\n",
        "\n",
        "# --- 1. Salvar o Modelo ---\n",
        "# Salva o modelo treinado em um único arquivo\n",
        "joblib.dump(modelo_avancado, 'modelo_avancado.joblib')\n",
        "print(\"Modelo salvo como 'modelo_avancado.joblib'\")\n",
        "\n",
        "\n",
        "# --- 2. Salvar o Dataframe de Ranking ---\n",
        "df_ranking_api = df_ranking.rename(columns={'country_full': 'time', 'rank_date': 'data_ranking'})\n",
        "df_ranking_api = df_ranking_api.sort_values(by='data_ranking')\n",
        "df_ranking_api.to_csv('ranking_data.csv', index=False)\n",
        "print(\"Dados de ranking salvos como 'ranking_data.csv'\")\n",
        "\n",
        "\n",
        "# --- 3. Salvar o Dataframe de Estatísticas ---\n",
        "df_stats_api = df_long_stats.sort_values(by=['team', 'date'])\n",
        "df_stats_api.to_csv('stats_data.csv', index=False)\n",
        "print(\"Dados de estatísticas salvos como 'stats_data.csv'\")\n",
        "\n",
        "print(\"\\nArtefatos prontos!\")"
      ],
      "metadata": {
        "colab": {
          "base_uri": "https://localhost:8080/"
        },
        "id": "W1xN-XacDZlV",
        "outputId": "1bd62ac9-b32a-4e02-f4d3-b8c4ff601651"
      },
      "execution_count": 83,
      "outputs": [
        {
          "output_type": "stream",
          "name": "stdout",
          "text": [
            "Salvando artefatos...\n",
            "Modelo salvo como 'modelo_avancado.joblib'\n",
            "Dados de ranking salvos como 'ranking_data.csv'\n",
            "Dados de estatísticas salvos como 'stats_data.csv'\n",
            "\n",
            "Artefatos prontos!\n"
          ]
        }
      ]
    },
    {
      "cell_type": "code",
      "source": [],
      "metadata": {
        "id": "LNXavhUCD8Es"
      },
      "execution_count": null,
      "outputs": []
    }
  ]
}